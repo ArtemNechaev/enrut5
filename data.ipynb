{
  "cells": [
    {
      "cell_type": "markdown",
      "metadata": {
        "id": "Qv4nLU1Ixfyw"
      },
      "source": [
        "# imports\n",
        "\n"
      ]
    },
    {
      "cell_type": "code",
      "execution_count": null,
      "metadata": {
        "id": "LJVqzjR2xj5f"
      },
      "outputs": [],
      "source": [
        "!pip install datasets"
      ]
    },
    {
      "cell_type": "code",
      "execution_count": null,
      "metadata": {
        "id": "sPEOcrdCxjqo"
      },
      "outputs": [],
      "source": [
        "from datasets import load_dataset, concatenate_datasets\n",
        "import random\n",
        "import pandas as pd\n",
        "import re\n",
        "import pickle\n",
        "import matplotlib.pyplot as plt\n",
        "\n",
        "from  bs4 import BeautifulSoup\n",
        "import requests\n",
        "import time\n",
        "import os "
      ]
    },
    {
      "cell_type": "markdown",
      "metadata": {
        "id": "YOWGn8_RhZMk"
      },
      "source": [
        "# parse en ru dict"
      ]
    },
    {
      "cell_type": "code",
      "execution_count": null,
      "metadata": {
        "id": "cKvGMzQuMoRg"
      },
      "outputs": [],
      "source": [
        "url_base = \"http://www.7english.ru/dictionary.php\"\n",
        "urls = ['?id=500&letter=all',  '?id=1000&letter=all', '?id=2000&letter=all',  '?id=3500&letter=all', '?id=6000&letter=all', '?id=2&letter=all', '?id=3&letter=all']"
      ]
    },
    {
      "cell_type": "code",
      "execution_count": null,
      "metadata": {
        "id": "15Wbtsqaaohx"
      },
      "outputs": [],
      "source": [
        "\n",
        "def parse_words(url):\n",
        "    rs = requests.get(url)\n",
        "    root = BeautifulSoup(rs.content, 'html.parser')\n",
        "\n",
        "    en_list, ru_list = [], []\n",
        "\n",
        "    for tr in root.select('tr[onmouseover]'):\n",
        "        td_list = [td.text.strip() for td in tr.select('td')]\n",
        "\n",
        "        # Количество ячеек в таблице со словами -- 9\n",
        "        if len(td_list) != 9 or not td_list[1] or not td_list[5]:\n",
        "            continue\n",
        "\n",
        "        en = td_list[1]\n",
        "\n",
        "        # Русские слова могут быть перечислены через запятую 'ты, вы',\n",
        "        # а нам достаточно одного слова\n",
        "        # 'ты, вы' -> 'ты'\n",
        "        ru = td_list[5].split(', ')[0]\n",
        "\n",
        "        en_list.append(en)\n",
        "        ru_list.append(ru)\n",
        "    return pd.DataFrame({'en': en_list, 'ru': ru_list})\n",
        "\n"
      ]
    },
    {
      "cell_type": "code",
      "execution_count": null,
      "metadata": {
        "id": "rL-jnfQCF97b"
      },
      "outputs": [],
      "source": [
        "res = pd.DataFrame()\n",
        "for url in urls:\n",
        "  df = parse_words(url_base + url)\n",
        "  print(df.size / 2 )\n",
        "  res = res.append(df)"
      ]
    },
    {
      "cell_type": "code",
      "execution_count": null,
      "metadata": {
        "id": "54T-hOYxe97C"
      },
      "outputs": [],
      "source": [
        "res.head(5)"
      ]
    },
    {
      "cell_type": "code",
      "execution_count": null,
      "metadata": {
        "id": "f488P7bfbcHB"
      },
      "outputs": [],
      "source": [
        "res = res.drop_duplicates()[1:]"
      ]
    },
    {
      "cell_type": "code",
      "execution_count": null,
      "metadata": {
        "id": "lkG0yi3mRcFg"
      },
      "outputs": [],
      "source": [
        "res.sort_values('en').to_csv('drive/MyDrive/ML/enru_dict.csv', index=False)"
      ]
    },
    {
      "cell_type": "code",
      "execution_count": null,
      "metadata": {
        "id": "MvkdkiEUiqLX"
      },
      "outputs": [],
      "source": [
        "import requests\n",
        "from bs4 import BeautifulSoup\n",
        "import pandas as pd\n",
        "\n",
        "def parse_sent(url):\n",
        "    rs = requests.get(url)\n",
        "    root = BeautifulSoup(rs.content, 'html.parser')\n",
        "\n",
        "    themes, en_list, ru_list =[], [], []\n",
        "\n",
        "    for tr in root.select('tr[onmouseover]'):\n",
        "        td_list = [(td.text.strip(), td.select('a')) for td in tr.select('td')]\n",
        "\n",
        "        # Количество ячеек в таблице со словами -- 9\n",
        "        if len(td_list) != 9 or not td_list[1][0] or not td_list[5][0] or not td_list[5][1]:\n",
        "            continue\n",
        "\n",
        "        theme = td_list[1][0]\n",
        "\n",
        "        # Русские слова могут быть перечислены через запятую 'ты, вы',\n",
        "        # а нам достаточно одного слова\n",
        "        # 'ты, вы' -> 'ты'\n",
        "        en = td_list[5][0].replace('[перевод]', \"\")\n",
        "        ru = td_list[5][1][0].get('title', 'No title')\n",
        "\n",
        "        themes.append(theme)\n",
        "        en_list.append(en)\n",
        "        ru_list.append(ru)\n",
        "    return pd.DataFrame({'theme': themes,'en': en_list, 'ru': ru_list})\n"
      ]
    },
    {
      "cell_type": "code",
      "execution_count": null,
      "metadata": {
        "id": "948wtiVomJhF"
      },
      "outputs": [],
      "source": [
        "parse_sent('http://www.7english.ru/dictionary.php?id=5&letter=33').head(5)"
      ]
    },
    {
      "cell_type": "markdown",
      "metadata": {
        "id": "zVPUWxQWv7VE"
      },
      "source": [
        "# cambridge en ru dict"
      ]
    },
    {
      "cell_type": "code",
      "execution_count": null,
      "metadata": {
        "id": "fQTAnr4vnsoq"
      },
      "outputs": [],
      "source": [
        "headers =  {\"User-Agent\": \"Mozilla/5.0 (Windows NT 10.0; Win64; x64) AppleWebKit/537.36 (KHTML, like Gecko) Chrome/70.0.3538.77 Safari/537.36\"}\n",
        "\n",
        "alphabet=['a', 'b']\n",
        "en_dict = {}\n",
        "url = \"https://dictionary.cambridge.org\"\n",
        "for litera in alphabet:\n",
        "  \n",
        "  resp = requests.get(f\"https://dictionary.cambridge.org/browse/english-russian/{litera}\", headers=headers)\n",
        "  root = BeautifulSoup(resp.content)\n",
        "  href_list = [h.get('href') for h in root.find_all(\"a\", class_=\"dil tcbd\")]\n",
        "\n",
        "  for href in href_list:\n",
        "    resp = requests.get(href, headers=headers)\n",
        "    root = BeautifulSoup(resp.content)\n",
        "    href_sub_list = [h.get('href') for h in root.find_all(\"a\", class_=\"tc-bd\")][1:]\n",
        "\n",
        "    for sub_href in href_sub_list:\n",
        "      resp = requests.get(url + sub_href, headers=headers)\n",
        "      root = BeautifulSoup(resp.content)\n",
        "      en = root.find(\"div\", class_=\"h2 dhw dpos-h_hw lpt-5 lpb-10\")\n",
        "      ru = root.find(\"span\", class_=\"trans dtrans dtrans-se \")\n",
        "      if en and ru:\n",
        "        en_dict[en.text.strip()] = [ru.text.strip()]\n",
        "        examples = root.find_all(\"div\", class_=\"lbb lb-cm lpt-10\")\n",
        "        for example in examples:\n",
        "          text = example.find(\"span\", class_=\"deg\").text.strip()\n",
        "          en_dict[en.text.strip()].append(text)\n"
      ]
    },
    {
      "cell_type": "code",
      "execution_count": null,
      "metadata": {
        "id": "6SPJ6m8WfHvW"
      },
      "outputs": [],
      "source": []
    },
    {
      "cell_type": "markdown",
      "metadata": {
        "id": "A5SIDuuJgzSs"
      },
      "source": [
        "# filter HF datset and group by words"
      ]
    },
    {
      "cell_type": "code",
      "execution_count": null,
      "metadata": {
        "id": "iD7VK9Bug2h1"
      },
      "outputs": [],
      "source": [
        "\n",
        "translate_dataset = load_dataset('opus100', 'en-ru', )\n",
        "\n",
        "enru_dict = pd.read_csv('drive/MyDrive/ML/enru_dict.csv')\n",
        "en_dict = {item.en: [{'en': item.en, 'ru': item.ru}] for i, item in enru_dict.iterrows()}\n",
        "en_dict['<heap>'] = []"
      ]
    },
    {
      "cell_type": "code",
      "execution_count": null,
      "metadata": {
        "id": "GY9dQ13Cg2eA"
      },
      "outputs": [],
      "source": [
        "\n",
        "ru_regex = re.compile(r\"[а-яА-ЯёЁ]\")\n",
        "en_regex = re.compile(r\"[a-zA-Z]\")\n",
        "\n",
        "for example in translate_dataset['train']['translation']:\n",
        "\n",
        "  no_russian_words = len(ru_regex.findall(example['ru'])) < 0.5 * len(example['ru'])\n",
        "  no_en_words = len(en_regex.findall(example['en'])) < 0.5 * len(example['en'])\n",
        "  if no_russian_words or no_en_words or abs(1 - len(example['ru'])/len(example['en'])) > 0.4 :\n",
        "    continue\n",
        "\n",
        "  last_matched_token = None\n",
        "  is_appened = False\n",
        "  for token in example['en'].split():\n",
        "    if token in en_dict:\n",
        "      last_matched_token = token\n",
        "      if len(en_dict[token]) < 150:\n",
        "        en_dict[token].append(example)\n",
        "        is_appened = True\n",
        "        break\n",
        "  if not is_appened:      \n",
        "    if last_matched_token:\n",
        "      en_dict[last_matched_token].append(example)\n",
        "        \n",
        "    else:\n",
        "      en_dict['<heap>'].append(example)\n",
        "\n",
        "en_dict = dict(sorted(en_dict.items(), key=lambda x: len(x[1]), reverse=True))\n",
        "\n",
        "with open('drive/MyDrive/ML/hf_dataset.pickle', 'wb') as f:\n",
        "  pickle.dump(en_dict, f)"
      ]
    },
    {
      "cell_type": "code",
      "execution_count": null,
      "metadata": {
        "id": "0ISbbUmGX6RU"
      },
      "outputs": [],
      "source": [
        "len([k for k, v in en_dict.items() if len(v) < 20])"
      ]
    },
    {
      "cell_type": "markdown",
      "metadata": {
        "id": "96ia2MADudYI"
      },
      "source": [
        "# parse examples from internet\n"
      ]
    },
    {
      "cell_type": "code",
      "execution_count": null,
      "metadata": {
        "id": "fi0HqWAifmAE"
      },
      "outputs": [],
      "source": [
        "headers =  {\"User-Agent\": \"Mozilla/5.0 (Windows NT 10.0; Win64; x64) AppleWebKit/537.36 (KHTML, like Gecko) Chrome/70.0.3538.77 Safari/537.36\"}\n",
        "enru_dict = pd.read_csv('drive/MyDrive/ML/enru_dict.csv')\n",
        "\n",
        "if os.path.exists('drive/MyDrive/ML/parsed_dataset.pickle'):\n",
        "  with open('drive/MyDrive/ML/parsed_dataset.pickle', 'rb') as f:\n",
        "    examples_dict = pickle.load(f)\n",
        "else:\n",
        "  examples_dict = {}"
      ]
    },
    {
      "cell_type": "code",
      "execution_count": null,
      "metadata": {
        "id": "L2brfTOFgKou"
      },
      "outputs": [],
      "source": [
        "\n",
        "for i, item in enru_dict.iterrows():\n",
        "\n",
        "  if not examples_dict.get(item.en):\n",
        "    if (i + 1) % 100 == 0:\n",
        "      time.sleep(30)\n",
        "\n",
        "    examples_dict[item.en] = []\n",
        "    resp = requests.get(f\"https://context.reverso.net/translation/english-russian/{item.en}\", headers=headers)\n",
        "    root = BeautifulSoup(resp.content)\n",
        "\n",
        "    for en, ru in zip(root.find_all('div', class_=\"src ltr\", limit=100), root.find_all('div', class_=\"trg ltr\", limit=100)):\n",
        "      \n",
        "      examples_dict[item.en].append({'en': en.text.strip(), 'ru': ru.text.strip()})\n",
        "  \n",
        "\n",
        "\n"
      ]
    },
    {
      "cell_type": "code",
      "execution_count": null,
      "metadata": {
        "id": "WM0f27HLgsE-"
      },
      "outputs": [],
      "source": [
        "list(examples_dict.items())[-1]"
      ]
    },
    {
      "cell_type": "code",
      "execution_count": null,
      "metadata": {
        "id": "4pXmxy1QgsCG"
      },
      "outputs": [],
      "source": [
        "import pickle\n",
        "with open('drive/MyDrive/ML/parsed_dataset.pickle', 'wb') as f:\n",
        "  pickle.dump(examples_dict, f)"
      ]
    },
    {
      "cell_type": "code",
      "execution_count": null,
      "metadata": {
        "id": "WDjeyZl2wzbP"
      },
      "outputs": [],
      "source": []
    },
    {
      "cell_type": "code",
      "execution_count": null,
      "metadata": {
        "id": "jLTvKD_vxFWQ"
      },
      "outputs": [],
      "source": []
    },
    {
      "cell_type": "markdown",
      "metadata": {
        "id": "8xa9CDPqxGWq"
      },
      "source": [
        "# cat datasets"
      ]
    },
    {
      "cell_type": "code",
      "execution_count": null,
      "metadata": {
        "id": "6vI-Pi4TxJTA"
      },
      "outputs": [],
      "source": [
        "with open('drive/MyDrive/ML/hf_dataset.pickle', 'rb') as f:\n",
        "    hf_dataset = pickle.load(f)"
      ]
    },
    {
      "cell_type": "code",
      "execution_count": null,
      "metadata": {
        "id": "7P2Pf-fqyW0e"
      },
      "outputs": [],
      "source": [
        "with open('drive/MyDrive/ML/parsed_dataset.pickle', 'rb') as f:\n",
        "    parsed_dataset = pickle.load(f)"
      ]
    },
    {
      "cell_type": "code",
      "execution_count": null,
      "metadata": {
        "id": "glgOzVkz0szG"
      },
      "outputs": [],
      "source": [
        "for key in hf_dataset.keys():\n",
        "  hf_dataset[key] += parsed_dataset.get(key,[])"
      ]
    },
    {
      "cell_type": "code",
      "execution_count": null,
      "metadata": {
        "id": "osAGgq3T1sx8"
      },
      "outputs": [],
      "source": [
        "len([k for k, v in hf_dataset.items() if len(v) < 100])"
      ]
    },
    {
      "cell_type": "code",
      "execution_count": null,
      "metadata": {
        "id": "_VqHBcDI1grd"
      },
      "outputs": [],
      "source": [
        "with open('drive/MyDrive/ML/translation_dataset.pickle', 'wb') as f:\n",
        "    pickle.dump(hf_dataset, f)"
      ]
    }
  ],
  "metadata": {
    "colab": {
      "authorship_tag": "ABX9TyNc7xpSqQDJPG40Bbxvcze/",
      "collapsed_sections": [
        "YOWGn8_RhZMk",
        "A5SIDuuJgzSs"
      ],
      "mount_file_id": "1PJYimvXZfyWO0GI7uTl1kzvq3LyDZXmX",
      "name": "data.ipynb",
      "provenance": []
    },
    "kernelspec": {
      "display_name": "Python 3.10.2 ('env': venv)",
      "language": "python",
      "name": "python3"
    },
    "language_info": {
      "name": "python",
      "version": "3.10.2"
    },
    "vscode": {
      "interpreter": {
        "hash": "f48ffa412d7c57a9e42878b30c8de02ddb33a0d8f07093586b6127be95eb3fcb"
      }
    }
  },
  "nbformat": 4,
  "nbformat_minor": 0
}
